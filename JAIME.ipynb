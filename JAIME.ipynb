{
  "nbformat": 4,
  "nbformat_minor": 0,
  "metadata": {
    "colab": {
      "provenance": [],
      "authorship_tag": "ABX9TyP2zms8z27jphkEANK7uPNk",
      "include_colab_link": true
    },
    "kernelspec": {
      "name": "python3",
      "display_name": "Python 3"
    },
    "language_info": {
      "name": "python"
    }
  },
  "cells": [
    {
      "cell_type": "markdown",
      "metadata": {
        "id": "view-in-github",
        "colab_type": "text"
      },
      "source": [
        "<a href=\"https://colab.research.google.com/github/debianfontoura/codechecker/blob/master/JAIME.ipynb\" target=\"_parent\"><img src=\"https://colab.research.google.com/assets/colab-badge.svg\" alt=\"Open In Colab\"/></a>"
      ]
    },
    {
      "cell_type": "code",
      "execution_count": null,
      "metadata": {
        "colab": {
          "base_uri": "https://localhost:8080/"
        },
        "id": "Tk0xQuINfJeN",
        "outputId": "e7725468-eb23-44c1-deb5-4ae4f1260c49"
      },
      "outputs": [
        {
          "output_type": "stream",
          "name": "stdout",
          "text": [
            "Jaime está melhorando mais em programação Python\n"
          ]
        }
      ],
      "source": [
        "print(\"Jaime está melhorando mais em programação Python\")"
      ]
    },
    {
      "cell_type": "code",
      "source": [
        "print(4*5+5-2)"
      ],
      "metadata": {
        "colab": {
          "base_uri": "https://localhost:8080/"
        },
        "id": "NCKHLoJYhMAO",
        "outputId": "1a1da26c-50a3-4b7d-eef4-1099a5fcc460"
      },
      "execution_count": null,
      "outputs": [
        {
          "output_type": "stream",
          "name": "stdout",
          "text": [
            "23\n"
          ]
        }
      ]
    },
    {
      "cell_type": "code",
      "source": [
        "print(str(\"Jaime está aprendendo C#, Python, C++\"))"
      ],
      "metadata": {
        "colab": {
          "base_uri": "https://localhost:8080/"
        },
        "id": "RVXBX27yhun8",
        "outputId": "40e3298d-7b74-4470-afdb-f2994dcc31b6"
      },
      "execution_count": null,
      "outputs": [
        {
          "output_type": "stream",
          "name": "stdout",
          "text": [
            "Jaime está aprendendo C#, Python, C++\n"
          ]
        }
      ]
    },
    {
      "cell_type": "code",
      "source": [
        "if(4>=4 or 5<=5):\n",
        "  print(\"True\")\n",
        "else:\n",
        "  print(\"False\")"
      ],
      "metadata": {
        "colab": {
          "base_uri": "https://localhost:8080/"
        },
        "id": "xQ1Jw8j-lrhx",
        "outputId": "99a71336-939f-4c4b-dd96-5b665e7a5220"
      },
      "execution_count": null,
      "outputs": [
        {
          "output_type": "stream",
          "name": "stdout",
          "text": [
            "True\n"
          ]
        }
      ]
    },
    {
      "cell_type": "code",
      "source": [
        "def media_notas(nota1, nota2):\n",
        "  return (nota1+nota2)/2\n"
      ],
      "metadata": {
        "id": "M0wEx2DwmaYu"
      },
      "execution_count": 3,
      "outputs": []
    },
    {
      "cell_type": "code",
      "source": [
        "media_notas(4,10)"
      ],
      "metadata": {
        "colab": {
          "base_uri": "https://localhost:8080/"
        },
        "id": "1Dm4ptsCnD1-",
        "outputId": "bc29e5c7-233f-4dd6-93a8-e987eb472ecb"
      },
      "execution_count": null,
      "outputs": [
        {
          "output_type": "execute_result",
          "data": {
            "text/plain": [
              "7.0"
            ]
          },
          "metadata": {},
          "execution_count": 18
        }
      ]
    },
    {
      "cell_type": "code",
      "source": [
        "\n",
        "def exercicio1():\n",
        "  palavra=input(\"Digite uma palara: \")\n",
        "  lista=list(palavra)\n",
        "  segredo=\"\"\n",
        "  for x in lista:\n",
        "      if(x=='z'):segredo+='a'\n",
        "      elif(x=='Z'):segredo+='A'\n",
        "      else: segredo+=chr(ord(x)+1)\n",
        "  print(segredo)"
      ],
      "metadata": {
        "id": "eH7aaax_nPOs"
      },
      "execution_count": 2,
      "outputs": []
    },
    {
      "cell_type": "code",
      "source": [
        "list_notas = [10,5,8]\n",
        "list_notas[0]\n"
      ],
      "metadata": {
        "colab": {
          "base_uri": "https://localhost:8080/"
        },
        "id": "_DVDf3eJsG_g",
        "outputId": "1e370306-c36e-409e-c133-48bb66f42e7f"
      },
      "execution_count": 1,
      "outputs": [
        {
          "output_type": "execute_result",
          "data": {
            "text/plain": [
              "10"
            ]
          },
          "metadata": {},
          "execution_count": 1
        }
      ]
    },
    {
      "cell_type": "code",
      "source": [],
      "metadata": {
        "id": "QritrrHHsnTd"
      },
      "execution_count": null,
      "outputs": []
    },
    {
      "cell_type": "code",
      "source": [
        "list_notas = [4,6,8,10]\n",
        "list_notas[2]"
      ],
      "metadata": {
        "colab": {
          "base_uri": "https://localhost:8080/"
        },
        "id": "1GZW73UGxAsr",
        "outputId": "8db88a42-6886-46fe-f584-dc14bc34b447"
      },
      "execution_count": null,
      "outputs": [
        {
          "output_type": "execute_result",
          "data": {
            "text/plain": [
              "8"
            ]
          },
          "metadata": {},
          "execution_count": 71
        }
      ]
    },
    {
      "cell_type": "code",
      "source": [
        "import pandas as pd\n"
      ],
      "metadata": {
        "id": "3SKT3XPSxQVR"
      },
      "execution_count": null,
      "outputs": []
    }
  ]
}