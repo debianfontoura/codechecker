{
  "nbformat": 4,
  "nbformat_minor": 0,
  "metadata": {
    "colab": {
      "provenance": [],
      "authorship_tag": "ABX9TyOVfxxOfjfyIAJRnL1bQ1AK",
      "include_colab_link": true
    },
    "kernelspec": {
      "name": "python3",
      "display_name": "Python 3"
    },
    "language_info": {
      "name": "python"
    }
  },
  "cells": [
    {
      "cell_type": "markdown",
      "metadata": {
        "id": "view-in-github",
        "colab_type": "text"
      },
      "source": [
        "<a href=\"https://colab.research.google.com/github/debianfontoura/codechecker/blob/master/JAIME.ipynb\" target=\"_parent\"><img src=\"https://colab.research.google.com/assets/colab-badge.svg\" alt=\"Open In Colab\"/></a>"
      ]
    },
    {
      "cell_type": "code",
      "execution_count": 13,
      "metadata": {
        "colab": {
          "base_uri": "https://localhost:8080/"
        },
        "id": "Tk0xQuINfJeN",
        "outputId": "f312648a-b0a1-453d-8797-59835067526c"
      },
      "outputs": [
        {
          "output_type": "stream",
          "name": "stdout",
          "text": [
            "Jaime está melhorando mais em programação Python\n"
          ]
        }
      ],
      "source": [
        "print(\"Jaime está melhorando mais em programação Python\")"
      ]
    },
    {
      "cell_type": "code",
      "source": [
        "print(20*2-10)"
      ],
      "metadata": {
        "colab": {
          "base_uri": "https://localhost:8080/"
        },
        "id": "NCKHLoJYhMAO",
        "outputId": "c7ea8f11-89fa-4631-f893-79010af9ad3f"
      },
      "execution_count": 16,
      "outputs": [
        {
          "output_type": "stream",
          "name": "stdout",
          "text": [
            "30\n"
          ]
        }
      ]
    },
    {
      "cell_type": "code",
      "source": [
        "print(str(\"Jaime está aprendendo C#, Python, C++\"))"
      ],
      "metadata": {
        "colab": {
          "base_uri": "https://localhost:8080/"
        },
        "id": "RVXBX27yhun8",
        "outputId": "40e3298d-7b74-4470-afdb-f2994dcc31b6"
      },
      "execution_count": null,
      "outputs": [
        {
          "output_type": "stream",
          "name": "stdout",
          "text": [
            "Jaime está aprendendo C#, Python, C++\n"
          ]
        }
      ]
    },
    {
      "cell_type": "code",
      "source": [
        "if(4>=4 or 5<=5):\n",
        "  print(\"True\")\n",
        "else:\n",
        "  print(\"False\")"
      ],
      "metadata": {
        "colab": {
          "base_uri": "https://localhost:8080/"
        },
        "id": "xQ1Jw8j-lrhx",
        "outputId": "f915f54a-0267-49d4-e230-627cdb24b852"
      },
      "execution_count": 18,
      "outputs": [
        {
          "output_type": "stream",
          "name": "stdout",
          "text": [
            "True\n"
          ]
        }
      ]
    },
    {
      "cell_type": "code",
      "source": [
        ""
      ],
      "metadata": {
        "id": "D-xKHOHVcU6l"
      },
      "execution_count": null,
      "outputs": []
    },
    {
      "cell_type": "code",
      "source": [
        "\n",
        "def exercicio1():\n",
        "  palavra=input(\"Digite uma palara: \")\n",
        "  lista=list(palavra)\n",
        "  segredo=\"\"\n",
        "  for x in lista:\n",
        "      if(x=='z'):segredo+='a'\n",
        "      elif(x=='Z'):segredo+='A'\n",
        "      else: segredo+=chr(ord(x)+1)\n",
        "  print(segredo)"
      ],
      "metadata": {
        "id": "eH7aaax_nPOs"
      },
      "execution_count": 55,
      "outputs": []
    },
    {
      "cell_type": "code",
      "source": [
        "list_notas = [10,5,8,12]\n",
        "list_notas[0]\n",
        "list_notas"
      ],
      "metadata": {
        "colab": {
          "base_uri": "https://localhost:8080/"
        },
        "id": "_DVDf3eJsG_g",
        "outputId": "2a26cbce-9a5e-48b1-cf0d-5d151d804e51"
      },
      "execution_count": 58,
      "outputs": [
        {
          "output_type": "execute_result",
          "data": {
            "text/plain": [
              "[10, 5, 8, 10]"
            ]
          },
          "metadata": {},
          "execution_count": 58
        }
      ]
    },
    {
      "cell_type": "code",
      "source": [],
      "metadata": {
        "id": "QritrrHHsnTd"
      },
      "execution_count": null,
      "outputs": []
    },
    {
      "cell_type": "code",
      "source": [
        "list_notas = [10,5,8,12]\n",
        "list_notas[2] = 16\n",
        "list_notas\n"
      ],
      "metadata": {
        "colab": {
          "base_uri": "https://localhost:8080/"
        },
        "id": "1GZW73UGxAsr",
        "outputId": "0242d930-8175-4e12-f0f6-64f49c90775a"
      },
      "execution_count": 61,
      "outputs": [
        {
          "output_type": "execute_result",
          "data": {
            "text/plain": [
              "[10, 5, 16, 12]"
            ]
          },
          "metadata": {},
          "execution_count": 61
        }
      ]
    },
    {
      "cell_type": "code",
      "source": [
        "x = 30\n",
        "y = 31\n",
        "if x == 30 and y == 31:\n",
        "    print(True)\n",
        "else:\n",
        "    print(False)"
      ],
      "metadata": {
        "id": "0SEBMr8liM2l",
        "outputId": "be0c5739-5369-4192-d35d-d8757100555e",
        "colab": {
          "base_uri": "https://localhost:8080/"
        }
      },
      "execution_count": 88,
      "outputs": [
        {
          "output_type": "stream",
          "name": "stdout",
          "text": [
            "True\n"
          ]
        }
      ]
    },
    {
      "cell_type": "code",
      "source": [
        "pais = \"Canadá\"\n",
        "if pais == \"Canadá\":\n",
        "    print(\"Canadá\")\n",
        "elif pais == \"Brasil\":\n",
        "    print(\"Brasil\")\n",
        "elif pais == \"Argentina\":\n",
        "    print(\"Argentina\")\n",
        "else:\n",
        "    print(\"Não é EUA\")"
      ],
      "metadata": {
        "id": "f0vo-S-_lFWB",
        "outputId": "a5ff7bba-ec0d-427a-a153-6d1df948a746",
        "colab": {
          "base_uri": "https://localhost:8080/"
        }
      },
      "execution_count": 97,
      "outputs": [
        {
          "output_type": "stream",
          "name": "stdout",
          "text": [
            "Canadá\n"
          ]
        }
      ]
    },
    {
      "cell_type": "code",
      "source": [
        "var1 = 200\n",
        "if var1 >= 100:\n",
        "    print(var1)"
      ],
      "metadata": {
        "id": "NgBaA_YHmXOE",
        "outputId": "d33d715b-9de5-4135-eab2-11d2f46db059",
        "colab": {
          "base_uri": "https://localhost:8080/"
        }
      },
      "execution_count": 100,
      "outputs": [
        {
          "output_type": "stream",
          "name": "stdout",
          "text": [
            "200\n"
          ]
        }
      ]
    },
    {
      "cell_type": "code",
      "source": [
        "def f(x, y, z):\n",
        "  return x+y+z\n",
        "print(f(5, 7, 3))"
      ],
      "metadata": {
        "id": "umO5PlGGn6QY",
        "outputId": "c01555dd-8988-4b26-d97e-d1214c0ab836",
        "colab": {
          "base_uri": "https://localhost:8080/"
        }
      },
      "execution_count": 105,
      "outputs": [
        {
          "output_type": "stream",
          "name": "stdout",
          "text": [
            "15\n"
          ]
        }
      ]
    }
  ]
}